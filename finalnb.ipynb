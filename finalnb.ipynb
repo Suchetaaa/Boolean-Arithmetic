{
  "nbformat": 4,
  "nbformat_minor": 0,
  "metadata": {
    "kernelspec": {
      "name": "python3",
      "display_name": "Python 3"
    },
    "language_info": {
      "codemirror_mode": {
        "name": "ipython",
        "version": 2
      },
      "file_extension": ".py",
      "mimetype": "text/x-python",
      "name": "python",
      "nbconvert_exporter": "python",
      "pygments_lexer": "ipython2",
      "version": "2.7.16"
    },
    "colab": {
      "name": "finalnb.ipynb",
      "provenance": [],
      "include_colab_link": true
    },
    "accelerator": "TPU"
  },
  "cells": [
    {
      "cell_type": "markdown",
      "metadata": {
        "id": "view-in-github",
        "colab_type": "text"
      },
      "source": [
        "<a href=\"https://colab.research.google.com/github/Suchetaaa/Boolean-Arithmetic-SAGE/blob/master/finalnb.ipynb\" target=\"_parent\"><img src=\"https://colab.research.google.com/assets/colab-badge.svg\" alt=\"Open In Colab\"/></a>"
      ]
    },
    {
      "cell_type": "code",
      "metadata": {
        "id": "inpisDRyKEVK",
        "colab_type": "code",
        "colab": {}
      },
      "source": [
        "import numpy as np\n",
        "from scipy.integrate import odeint\n",
        "import matplotlib.pyplot as plt\n",
        "import matplotlib.ticker as ticker\n",
        "import csv\n",
        "\n",
        "N, T, t_l, t_e, t_changeKt, kspread = None, None, None, None, None, None # Set later depending on country\n",
        "samplesPerDay = 10\n",
        "\n",
        "startingTested = 14\n",
        "daysOffset = 14"
      ],
      "execution_count": 0,
      "outputs": []
    },
    {
      "cell_type": "code",
      "metadata": {
        "id": "8xynwbOPKHJa",
        "colab_type": "code",
        "outputId": "509fe3f9-9961-47ab-bff1-cfbb9bf2e2a2",
        "colab": {
          "resources": {
            "http://localhost:8080/nbextensions/google.colab/files.js": {
              "data": "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",
              "ok": true,
              "headers": [
                [
                  "content-type",
                  "application/javascript"
                ]
              ],
              "status": 200,
              "status_text": ""
            }
          },
          "base_uri": "https://localhost:8080/",
          "height": 74
        }
      },
      "source": [
        "from google.colab import files\n",
        "uploaded = files.upload()"
      ],
      "execution_count": 0,
      "outputs": [
        {
          "output_type": "display_data",
          "data": {
            "text/html": [
              "\n",
              "     <input type=\"file\" id=\"files-96499eb9-9e2f-4e3f-ac8b-2e2ef12306d4\" name=\"files[]\" multiple disabled />\n",
              "     <output id=\"result-96499eb9-9e2f-4e3f-ac8b-2e2ef12306d4\">\n",
              "      Upload widget is only available when the cell has been executed in the\n",
              "      current browser session. Please rerun this cell to enable.\n",
              "      </output>\n",
              "      <script src=\"/nbextensions/google.colab/files.js\"></script> "
            ],
            "text/plain": [
              "<IPython.core.display.HTML object>"
            ]
          },
          "metadata": {
            "tags": []
          }
        },
        {
          "output_type": "stream",
          "text": [
            "Saving maharashtra_time_series.csv to maharashtra_time_series.csv\n"
          ],
          "name": "stdout"
        }
      ]
    },
    {
      "cell_type": "code",
      "metadata": {
        "id": "X2IMkl9_KEVh",
        "colab_type": "code",
        "colab": {}
      },
      "source": [
        "## THE SIER-X MODEL\n",
        "def getPreds(beta = 0.2, beta1 = 0.1, sigma = 1/38.0, plot = False):\n",
        "    global N, T, t_l, t_e, t_changeKt, kspread\n",
        "    # Total population, N.\n",
        "\n",
        "    # Initial number of infected and recovered individuals, I0 and R0.\n",
        "    # Everyone else, S0, is susceptible to infection initially.\n",
        "\n",
        "    K0 = 1./7\n",
        "    MU = 1./7\n",
        "    gamma1 = 1./19\n",
        "    gamma2 = 1./14\n",
        "    gamma3 = 1./14\n",
        "    b1 = beta1\n",
        "    b2 = 0.1 * beta1\n",
        "    b3 = 0.002 * beta1\n",
        "    \n",
        "#     A0, I0, Xs0, Xa0, Xi0, P0, R0 = 1, 0, 0, 0, 0, 0, 0\n",
        "    totalInfected = startingTested * 20; pIgivenA = 0.33\n",
        "    A0 = totalInfected * (1.0 - pIgivenA) ;P0 = startingTested;I0 = totalInfected * pIgivenA - P0 ;Xs0 = 0;Xa0 = 0;Xi0 = 0; R0 = 0\n",
        "    \n",
        "    S0 = N - A0 - I0 - Xs0 - Xa0 - Xi0 - P0 - R0\n",
        "\n",
        "    t = np.linspace(0, T, samplesPerDay*T)\n",
        "\n",
        "    def deriv(y, t, N, beta):\n",
        "        S, A, I, Xs, Xa, Xi, P, R = y\n",
        "\n",
        "        if t < t_l or t > t_e:\n",
        "            k0 = 0\n",
        "        else:\n",
        "            k0 = K0\n",
        "            \n",
        "        if t > t_changeKt:\n",
        "            kt = kt2 = 0.5\n",
        "        else:\n",
        "            kt = 0.075; kt2 = 0\n",
        "\n",
        "        if t > t_e:\n",
        "            mu = MU\n",
        "        else:\n",
        "            mu = 0\n",
        "\n",
        "        dSdt = - beta * (I + kspread * (A + b1 * Xa) + b2 * Xi + b3 * P) * S/N - k0 * S + mu * Xs\n",
        "        dAdt = beta * (I + kspread * (A + b1 * Xa) + b2 * Xi + b3 * P) * S/N - sigma * A - k0 * A + mu * Xa - gamma1 * A - kt2 * A\n",
        "        dIdt = sigma * A  - kt * I - k0 * I + mu * Xi - gamma2 * I\n",
        "\n",
        "        dXsdt = - beta * beta1 * (I + kspread * (A + b1 * Xa) + b2 * Xi + b3 * P) * Xs/N + k0 * S - mu * Xs\n",
        "        dXadt = beta * beta1 * (I + kspread * (A + b1 * Xa) + b2 * Xi + b3 * P) * Xs/N - sigma * Xa + k0 * A - mu * Xa - gamma1 * Xa - kt2 * Xa\n",
        "        dXidt = sigma * Xa - kt * Xi + k0 * I - mu * Xi - gamma2 * Xi\n",
        "\n",
        "        dPdt = kt * (I + Xi) - gamma3 * P + kt2 * (A + Xa)\n",
        "        dRdt = gamma1 * (A + Xa) + gamma2 * (I + Xi) + gamma3 * P\n",
        "\n",
        "        return dSdt, dAdt, dIdt, dXsdt, dXadt, dXidt, dPdt, dRdt\n",
        "\n",
        "    # Initial conditions vector\n",
        "    y0 = S0, A0, I0, Xs0, Xa0, Xi0, P0, R0\n",
        "    # Integrate the SIR equations over the time grid, t.\n",
        "    ret = odeint(deriv, y0, t, args=(N, beta))\n",
        "    S, A, I, Xs, Xa, Xi, P, R = ret.T\n",
        "    if not plot: return P, R\n",
        "    else: return P, I + Xi + P, P + I + Xi + A + Xa\n",
        "\n",
        "# temp = getPreds(0.31, 0)"
      ],
      "execution_count": 0,
      "outputs": []
    },
    {
      "cell_type": "code",
      "metadata": {
        "id": "_0c9hP9tKEVu",
        "colab_type": "code",
        "colab": {}
      },
      "source": [
        "## READ DATA\n",
        "def readDataIndia(startDate = None):\n",
        "    # Start reading data from the startDate and subtract the number of confirmed, recovered and dead \n",
        "    # at the startDate from all future points\n",
        "    file = open('india_time_series.csv', 'r')\n",
        "    reader = csv.reader(file)\n",
        "    confirmedOffset, recoveredOffset, deadOffset = 0, 0, 0\n",
        "    confirmed, recovered, dead = None, None, None\n",
        "    i, r = [], []\n",
        "    for row in reader:\n",
        "        if startDate is not None and (startDate.strip() == row[0].strip()):\n",
        "            startDate = None\n",
        "            confirmedOffset = int(row[2])\n",
        "            recoveredOffset = int(row[4])\n",
        "            deadOffset = int(row[6])\n",
        "        if startDate is None:\n",
        "            confirmed = int(row[2]) - confirmedOffset\n",
        "            recovered = int(row[4]) - recoveredOffset\n",
        "            dead = int(row[6]) - deadOffset\n",
        "            r.append(recovered + dead)\n",
        "            i.append(confirmed - r[-1])\n",
        "    file.close()\n",
        "    return i, r\n",
        "\n",
        "def readDataMaharashtra(startIndex = 0):\n",
        "    file = open('maharashtra_time_series.csv', 'r')\n",
        "    reader = csv.reader(file)\n",
        "    confirmed, recovered, dead = None, None, None\n",
        "    count = -1\n",
        "    i, r = [], []\n",
        "    for row in reader:\n",
        "        count += 1\n",
        "        if count < startIndex: continue\n",
        "        confirmed = int(row[2])\n",
        "        recovered = int(row[4])\n",
        "        dead = int(row[6])\n",
        "        r.append(recovered + dead)\n",
        "        i.append(confirmed - r[-1])\n",
        "    file.close()\n",
        "    return i, r\n",
        "\n",
        "# Start from March 01, when the first case in this spread started, adjust counts as needed\n",
        "# actualI, actualR = readDataIndia(startDate = \"01 March\")\n",
        "# T = 50\n",
        "# t_l = 23 # From 24 March, ignore Janta Curfew?\n",
        "# t_e = 44\n",
        "# actualI = np.asarray(actualI); actualR = np.asarray(actualR)\n",
        "# N = 1300000000\n",
        "\n",
        "# actualI, actualR = readDataIndia(startDate = \"01 March\")\n",
        "# T = 50 - daysOffset\n",
        "# t_l = 23 - daysOffset# From 24 March, ignore Janta Curfew?\n",
        "# t_e = 44 - daysOffset\n",
        "# actualI = np.asarray(actualI[daysOffset:]); actualR = np.asarray(actualR[daysOffset:])\n",
        "# N = 1300000000\n",
        "\n",
        "\n",
        "# Maharashtra Data\n",
        "actualI, actualR = readDataMaharashtra()\n",
        "actualI = np.asarray(actualI); actualR = np.asarray(actualR)\n",
        "T = 50 - daysOffset\n",
        "t_l = 24 - daysOffset\n",
        "t_e = 24 + 21 - daysOffset\n",
        "N = 110000000\n",
        "t_changeKt = 1000000000\n",
        "kspread = 1.0"
      ],
      "execution_count": 0,
      "outputs": []
    },
    {
      "cell_type": "code",
      "metadata": {
        "id": "gIzHaVS_KEXJ",
        "colab_type": "code",
        "outputId": "96855d39-bb30-40d5-803f-f00190b13c6b",
        "colab": {
          "base_uri": "https://localhost:8080/",
          "height": 68
        }
      },
      "source": [
        "# Define loss and search for the best hyperparameters (grid search for now)\n",
        "def squaredLoss(preds, target):\n",
        "    loss = ((preds - target) ** 2).sum()\n",
        "    return loss\n",
        "\n",
        "eps = 1e-8\n",
        "def squaredLossExpScale(preds, target):\n",
        "    preds = np.log(preds + eps)\n",
        "    target = np.log(target + eps)\n",
        "    loss = ((preds - target) ** 2).sum()\n",
        "    return loss\n",
        "\n",
        "bestLoss = 10000000000\n",
        "bestBeta, bestBeta1 = -1, -1\n",
        "bestPreds = None\n",
        "betaValues = np.linspace(0.1, 0.6, 51)\n",
        "beta1Values = np.linspace(0.6, 1.0, 41)\n",
        "losses = np.zeros((len(betaValues), len(beta1Values)))\n",
        "\n",
        "for i, beta in enumerate(betaValues):\n",
        "    for j, beta1 in enumerate(beta1Values):\n",
        "        predI, predR = getPreds(beta = beta, beta1 = beta1)\n",
        "        trimmedPredI = predI[:len(actualI) * samplesPerDay:samplesPerDay]\n",
        "        trimmedPredR = predR[:len(actualR) * samplesPerDay:samplesPerDay]\n",
        "        assert len(trimmedPredI) == len(actualI) and len(trimmedPredR) == len(actualR), \"Length mismatch\"\n",
        "        loss = squaredLoss(trimmedPredI, actualI)\n",
        "        losses[i, j] = loss\n",
        "        \n",
        "        if loss < bestLoss:\n",
        "            bestLoss = loss\n",
        "            bestPreds = predI, predR\n",
        "            bestBeta = beta; bestBeta1 = beta1\n",
        "\n",
        "print(\"Best beta value\", bestBeta)\n",
        "print(\"Best beta1 value\", bestBeta1)\n",
        "print(\"Best loss value\", bestLoss)"
      ],
      "execution_count": 0,
      "outputs": [
        {
          "output_type": "stream",
          "text": [
            "Best beta value 0.31\n",
            "Best beta1 value 0.71\n",
            "Best loss value 11984.354933934002\n"
          ],
          "name": "stdout"
        }
      ]
    },
    {
      "cell_type": "code",
      "metadata": {
        "id": "L5cEitOXKEXd",
        "colab_type": "code",
        "outputId": "87f7738b-df3a-4fb1-9548-b41b8b1a7d2e",
        "colab": {}
      },
      "source": [
        "beta = 0.31; beta1 = 0.71\n",
        "T = 200; T2 = 25\n",
        "kspread = 1.0\n",
        "\n",
        "t_e = 24 + 21 - daysOffset\n",
        "t_changeKt = 10000000000#48 - daysOffset\n",
        "pLock, totalLock, total2Lock = getPreds(beta, beta1, plot = True)\n",
        "\n",
        "print(\"Total population of Maharashtra: 114200000\")\n",
        "print(\"Maximum people tested positive at the same time: \" + str(int(pLock.max() + 0.5)))\n",
        "print(\"Maximum people symptomatic at the same time: \" + str(int(totalLock.max() + 0.5)))\n",
        "print(\"Maximum people infected at the same time: \" + str(int(total2Lock.max() + 0.5)))\n",
        "\n",
        "fig, (ax, ax2) = plt.subplots(1, 2, facecolor='w', figsize=(20, 7))\n",
        "t = np.linspace(0, T, samplesPerDay * T + 1)\n",
        "ax.plot(t[:len(pLock)], pLock, alpha=0.5, lw=2, label='predicted P')\n",
        "ax.plot(t[:len(totalLock)], totalLock, lw=2, label='predicted P + Xi + i')\n",
        "ax.plot(t[:len(total2Lock)], total2Lock, alpha=0.5, lw=2, label='predicted P + Xi + i + A + Xa')\n",
        "ax.set_xlabel('Time /days')\n",
        "ax.set_ylabel('Number of people')\n",
        "ax.set_yscale('log')\n",
        "ax.set_ylim(1, 1e8)\n",
        "ax.xaxis.set_major_locator(ticker.MultipleLocator(15))\n",
        "ax.set_xticklabels(['', 'March 14', 'March 29', 'April 13', 'April 28', 'May 13', 'May 28', 'June 12', 'June 27',\\\n",
        "                   'July 12', 'July 27', 'August 11', 'August 26', 'Sept 10', 'Sept 25', 'Oct 10', 'Oct 25',\\\n",
        "                   'Nov 9', 'Nov 24', 'Dec 9', 'Dec 24', 'Jan 8'], rotation = 'vertical')\n",
        "legend = ax.legend()\n",
        "legend.get_frame().set_alpha(0.5)\n",
        "\n",
        "t = np.linspace(0, T2, samplesPerDay * T2 + 1)\n",
        "ax2.plot(t, pLock[:len(t)], alpha=0.5, lw=2, label='predicted P')\n",
        "ax2.plot(t, totalLock[:len(t)], lw=2, label='predicted P + Xi + i')\n",
        "# ax2.plot(t, total2Lock[:len(t)], alpha=0.5, lw=2, label='predicted P + Xi + i + A + Xa')\n",
        "ax2.scatter(list(range(len(actualI))), actualI, c = 'r', label='actual P')\n",
        "ax2.set_xlabel('Time /days')\n",
        "ax2.set_ylabel('Number of people')\n",
        "ax2.xaxis.set_major_locator(ticker.MultipleLocator(3))\n",
        "ax2.set_xticklabels(['', 'March 14', 'March 17', 'March 20', 'March 23', 'March 27', 'March 30', 'April 3', \\\n",
        "                    'April 6', 'April 9', 'April 12', 'April 15', 'April 18', 'April 21', 'April 24'], rotation = 'vertical')\n",
        "legend = ax.legend()\n",
        "legend.get_frame().set_alpha(0.5)\n",
        "\n",
        "plt.show()"
      ],
      "execution_count": 0,
      "outputs": [
        {
          "output_type": "stream",
          "text": [
            "Total population of Maharashtra: 114200000\n",
            "Maximum people tested positive at the same time: 74978\n",
            "Maximum people symptomatic at the same time: 75985\n",
            "Maximum people infected at the same time: 90844\n"
          ],
          "name": "stdout"
        },
        {
          "output_type": "display_data",
          "data": {
            "image/png": "[encoded data removed]",
            "text/plain": [
              "<Figure size 1440x504 with 2 Axes>"
            ]
          },
          "metadata": {
            "tags": []
          }
        }
      ]
    },
    {
      "cell_type": "markdown",
      "metadata": {
        "id": "AreY6y7gKEXp",
        "colab_type": "text"
      },
      "source": [
        ""
      ]
    },
    {
      "cell_type": "code",
      "metadata": {
        "id": "RTa4mG_xKEXr",
        "colab_type": "code",
        "outputId": "19482caa-1ffa-40f6-f4da-2aafbdc04faa",
        "colab": {}
      },
      "source": [
        "beta = 0.5; beta1 = 0.95\n",
        "T = 200; T2 = 25\n",
        "kspread = 0.5\n",
        "\n",
        "t_e = 24 + 21 - daysOffset\n",
        "t_changeKt = 10000000000#48 - daysOffset\n",
        "pLock, totalLock, total2Lock = getPreds(beta, beta1, plot = True)\n",
        "\n",
        "print(\"Total population of Maharashtra: 114200000\")\n",
        "print(\"Maximum people tested positive at the same time: \" + str(int(pLock.max() + 0.5)))\n",
        "print(\"Maximum people symptomatic at the same time: \" + str(int(totalLock.max() + 0.5)))\n",
        "print(\"Maximum people infected at the same time: \" + str(int(total2Lock.max() + 0.5)))\n",
        "\n",
        "fig, (ax, ax2) = plt.subplots(1, 2, facecolor='w', figsize=(20, 7))\n",
        "t = np.linspace(0, T, samplesPerDay * T + 1)\n",
        "ax.plot(t[:len(pLock)], pLock, alpha=0.5, lw=2, label='predicted P')\n",
        "ax.plot(t[:len(totalLock)], totalLock, lw=2, label='predicted P + Xi + i')\n",
        "ax.plot(t[:len(total2Lock)], total2Lock, alpha=0.5, lw=2, label='predicted P + Xi + i + A + Xa')\n",
        "ax.set_xlabel('Time /days')\n",
        "ax.set_ylabel('Number of people')\n",
        "ax.set_yscale('log')\n",
        "ax.set_ylim(1, 1e8)\n",
        "ax.xaxis.set_major_locator(ticker.MultipleLocator(15))\n",
        "ax.set_xticklabels(['', 'March 14', 'March 29', 'April 13', 'April 28', 'May 13', 'May 28', 'June 12', 'June 27',\\\n",
        "                   'July 12', 'July 27', 'August 11', 'August 26', 'Sept 10', 'Sept 25', 'Oct 10', 'Oct 25',\\\n",
        "                   'Nov 9', 'Nov 24', 'Dec 9', 'Dec 24', 'Jan 8'], rotation = 'vertical')\n",
        "legend = ax.legend()\n",
        "legend.get_frame().set_alpha(0.5)\n",
        "\n",
        "t = np.linspace(0, T2, samplesPerDay * T2 + 1)\n",
        "ax2.plot(t, pLock[:len(t)], alpha=0.5, lw=2, label='predicted P')\n",
        "ax2.plot(t, totalLock[:len(t)], lw=2, label='predicted P + Xi + i')\n",
        "# ax2.plot(t, total2Lock[:len(t)], alpha=0.5, lw=2, label='predicted P + Xi + i + A + Xa')\n",
        "ax2.scatter(list(range(len(actualI))), actualI, c = 'r', label='actual P')\n",
        "ax2.set_xlabel('Time /days')\n",
        "ax2.set_ylabel('Number of people')\n",
        "ax2.xaxis.set_major_locator(ticker.MultipleLocator(3))\n",
        "ax2.set_xticklabels(['', 'March 14', 'March 17', 'March 20', 'March 23', 'March 27', 'March 30', 'April 3', \\\n",
        "                    'April 6', 'April 9', 'April 12', 'April 15', 'April 18', 'April 21', 'April 24'], rotation = 'vertical')\n",
        "legend = ax.legend()\n",
        "legend.get_frame().set_alpha(0.5)\n",
        "\n",
        "plt.show()"
      ],
      "execution_count": 0,
      "outputs": [
        {
          "output_type": "stream",
          "text": [
            "Total population of Maharashtra: 114200000\n",
            "Maximum people tested positive at the same time: 140712\n",
            "Maximum people symptomatic at the same time: 142516\n",
            "Maximum people infected at the same time: 170335\n"
          ],
          "name": "stdout"
        },
        {
          "output_type": "display_data",
          "data": {
            "image/png": "[encoded data removed]",
            "text/plain": [
              "<Figure size 1440x504 with 2 Axes>"
            ]
          },
          "metadata": {
            "tags": []
          }
        }
      ]
    },
    {
      "cell_type": "markdown",
      "metadata": {
        "id": "WCHPS-VSRvHu",
        "colab_type": "text"
      },
      "source": [
        "NUMBER OF CASES PER DISTRICT"
      ]
    },
    {
      "cell_type": "code",
      "metadata": {
        "id": "cEKwklWCKEX1",
        "colab_type": "code",
        "colab": {}
      },
      "source": [
        "from google.colab import files\n",
        "uploaded = files.upload()"
      ],
      "execution_count": 0,
      "outputs": []
    },
    {
      "cell_type": "code",
      "metadata": {
        "id": "LYvVOsJ-V5cg",
        "colab_type": "code",
        "colab": {}
      },
      "source": [
        "import pandas as pd\n",
        "\n",
        "df=pd.read_csv('patients.csv')\n",
        "district_df = df.groupby('detecteddistrict')\n",
        "\n",
        "district_list=[]\n",
        "total_cases_list=[]\n",
        "for name, group in district_df:  \n",
        "    district_list.append(name)\n",
        "    total_cases_list.append(len(group.index))\n",
        "\n",
        "consolidated_df=pd.DataFrame(list(zip(district_list, total_cases_list)), \n",
        "               columns =['district_name', 'total_cases']) \n",
        "consolidated_df.sort_values(by=['total_cases'], inplace=True, ascending=False)\n",
        "consolidated_df.to_csv('district_final.csv', header=False, index=False)"
      ],
      "execution_count": 0,
      "outputs": []
    },
    {
      "cell_type": "code",
      "metadata": {
        "id": "mOg_9Y0Ufa0L",
        "colab_type": "code",
        "colab": {}
      },
      "source": [
        "from google.colab import files\n",
        "files.download('district_final.csv') "
      ],
      "execution_count": 0,
      "outputs": []
    },
    {
      "cell_type": "markdown",
      "metadata": {
        "id": "0i4LYqCOR0F1",
        "colab_type": "text"
      },
      "source": [
        "TIME_SERIES_DATA OF DISTRICTS"
      ]
    },
    {
      "cell_type": "code",
      "metadata": {
        "id": "8Rdty12nxp68",
        "colab_type": "code",
        "colab": {}
      },
      "source": [
        "import pandas as pd\n",
        "\n",
        "def Reverse(lst): \n",
        "    return [ele for ele in reversed(lst)] \n",
        "\n",
        "df=pd.read_csv('patients.csv')\n",
        "district_df = df.groupby('detecteddistrict')\n",
        "\n",
        "mum_df=district_df.get_group('Mumbai')\n",
        "mum_df_1=mum_df[['currentstatus','dateannounced','detecteddistrict','statuschangedate']]\n",
        "\n",
        "confirmed_list=[]\n",
        "deceased_list=[]\n",
        "recovered_list=[]\n",
        "\n",
        "confirmed_total=[]\n",
        "deceased_total=[]\n",
        "recovered_total=[]\n",
        "\n",
        "confirmed_t=0\n",
        "deceased_t=0\n",
        "recovered_t=0\n",
        "\n",
        "date_list=mum_df_1.dateannounced.unique()\n",
        "date_list=Reverse(date_list)\n",
        "\n",
        "for date in date_list:\n",
        "  confirmed=0\n",
        "  deceased=0\n",
        "  recovered=0\n",
        "  for index, row in mum_df_1.iterrows(): \n",
        "    if(row['dateannounced']==date):\n",
        "      confirmed+=1\n",
        "    if(row['statuschangedate']==date and row['currentstatus']=='Recovered'):\n",
        "      recovered+=1\n",
        "    if(row['statuschangedate']==date and row['currentstatus']=='Deceased'):\n",
        "      deceased+=1 \n",
        "  \n",
        "  confirmed_t+=confirmed\n",
        "  deceased_t+=deceased\n",
        "  recovered_t+=recovered\n",
        "  \n",
        "  confirmed_list.append(confirmed)\n",
        "  confirmed_total.append(confirmed_t)\n",
        "  deceased_list.append(deceased)\n",
        "  deceased_total.append(deceased_t)\n",
        "  recovered_list.append(recovered) \n",
        "  recovered_total.append(recovered_t)\n",
        "\n",
        "consolidated_df=pd.DataFrame(list(zip(date_list, confirmed_list, confirmed_total, recovered_list, recovered_total, deceased_list, deceased_total)), \n",
        "               columns =['date', 'confirmed_cases', 'total_confirmed', 'recovered_cases', 'total_recovered', 'deceased_cases', 'total_deceased'])\n",
        "\n",
        "consolidated_df.to_csv('mumbai.csv', header=False, index=False)"
      ],
      "execution_count": 0,
      "outputs": []
    },
    {
      "cell_type": "code",
      "metadata": {
        "id": "nyIq0jVWMtwK",
        "colab_type": "code",
        "colab": {}
      },
      "source": [
        "from google.colab import files\n",
        "files.download('mumbai.csv') "
      ],
      "execution_count": 0,
      "outputs": []
    },
    {
      "cell_type": "code",
      "metadata": {
        "id": "duKpU0dSos2k",
        "colab_type": "code",
        "colab": {}
      },
      "source": [
        "#All districts\n",
        "import pandas as pd\n",
        "\n",
        "def Reverse(lst): \n",
        "    return [ele for ele in reversed(lst)] \n",
        "\n",
        "df=pd.read_csv('patients.csv')\n",
        "district_df = df.groupby('detecteddistrict')\n",
        "district_list=[]\n",
        "total_cases_list=[]\n",
        "for name, group in district_df:  \n",
        "    district_list.append(name)\n",
        "    total_cases_list.append(len(group.index))\n",
        "\n",
        "consolidated_df=pd.DataFrame(list(zip(district_list, total_cases_list)), \n",
        "               columns =['district_name', 'total_cases']) \n",
        "consolidated_df.sort_values(by=['total_cases'], inplace=True, ascending=False)\n",
        "consolidated_df.to_csv('district_final.csv', header=False, index=False)\n",
        "\n",
        "for district in district_list:\n",
        "  mum_df=district_df.get_group(district)\n",
        "  mum_df_1=mum_df[['currentstatus','dateannounced','detecteddistrict','statuschangedate']]\n",
        "\n",
        "  confirmed_list=[]\n",
        "  deceased_list=[]\n",
        "  recovered_list=[]\n",
        "\n",
        "  confirmed_total=[]\n",
        "  deceased_total=[]\n",
        "  recovered_total=[]\n",
        "\n",
        "  confirmed_t=0\n",
        "  deceased_t=0\n",
        "  recovered_t=0\n",
        "\n",
        "  date_list=mum_df_1.dateannounced.unique()\n",
        "  date_list=Reverse(date_list)\n",
        "\n",
        "  for date in date_list:\n",
        "    confirmed=0\n",
        "    deceased=0\n",
        "    recovered=0\n",
        "    for index, row in mum_df_1.iterrows(): \n",
        "      if(row['dateannounced']==date):\n",
        "        confirmed+=1\n",
        "      if(row['statuschangedate']==date and row['currentstatus']=='Recovered'):\n",
        "        recovered+=1\n",
        "      if(row['statuschangedate']==date and row['currentstatus']=='Deceased'):\n",
        "        deceased+=1 \n",
        "  \n",
        "    confirmed_t+=confirmed\n",
        "    deceased_t+=deceased\n",
        "    recovered_t+=recovered\n",
        "  \n",
        "    confirmed_list.append(confirmed)\n",
        "    confirmed_total.append(confirmed_t)\n",
        "    deceased_list.append(deceased)\n",
        "    deceased_total.append(deceased_t)\n",
        "    recovered_list.append(recovered) \n",
        "    recovered_total.append(recovered_t)\n",
        "\n",
        "  final_df=pd.DataFrame(list(zip(date_list, confirmed_list, confirmed_total, recovered_list, recovered_total, deceased_list, deceased_total)), \n",
        "               columns =['date', 'confirmed_cases', 'total_confirmed', 'recovered_cases', 'total_recovered', 'deceased_cases', 'total_deceased'])\n",
        "\n",
        "  final_df.to_csv(district+'.csv', header=False, index=False)"
      ],
      "execution_count": 0,
      "outputs": []
    },
    {
      "cell_type": "markdown",
      "metadata": {
        "id": "Cg9Lw4HSRjtQ",
        "colab_type": "text"
      },
      "source": [
        "MODEL TRAINING FOR DISTRICT_WISE BETA"
      ]
    },
    {
      "cell_type": "code",
      "metadata": {
        "id": "zR5dHxrTSC2l",
        "colab_type": "code",
        "colab": {}
      },
      "source": [
        "import numpy as np\n",
        "from scipy.integrate import odeint\n",
        "import matplotlib.pyplot as plt\n",
        "import matplotlib.ticker as ticker\n",
        "import csv\n",
        "\n",
        "N, T, t_l, t_e, t_changeKt, kspread = None, None, None, None, None, None # Set later depending on country\n",
        "samplesPerDay = 10\n",
        "\n",
        "startingTested = 14\n",
        "daysOffset = 14"
      ],
      "execution_count": 0,
      "outputs": []
    },
    {
      "cell_type": "code",
      "metadata": {
        "id": "ehdnf6aBSH_1",
        "colab_type": "code",
        "colab": {}
      },
      "source": [
        "## THE SIER-X MODEL\n",
        "def getPreds(beta = 0.2, beta1 = 0.1, sigma = 1/38.0, plot = False):\n",
        "    global N, T, t_l, t_e, t_changeKt, kspread\n",
        "    # Total population, N.\n",
        "\n",
        "    # Initial number of infected and recovered individuals, I0 and R0.\n",
        "    # Everyone else, S0, is susceptible to infection initially.\n",
        "\n",
        "    K0 = 1./7\n",
        "    MU = 1./7\n",
        "    gamma1 = 1./19\n",
        "    gamma2 = 1./14\n",
        "    gamma3 = 1./14\n",
        "    b1 = beta1\n",
        "    b2 = 0.1 * beta1\n",
        "    b3 = 0.002 * beta1\n",
        "    \n",
        "#     A0, I0, Xs0, Xa0, Xi0, P0, R0 = 1, 0, 0, 0, 0, 0, 0\n",
        "    totalInfected = startingTested * 20; pIgivenA = 0.33\n",
        "    A0 = totalInfected * (1.0 - pIgivenA) ;P0 = startingTested;I0 = totalInfected * pIgivenA - P0 ;Xs0 = 0;Xa0 = 0;Xi0 = 0; R0 = 0\n",
        "    \n",
        "    S0 = N - A0 - I0 - Xs0 - Xa0 - Xi0 - P0 - R0\n",
        "\n",
        "    t = np.linspace(0, T, samplesPerDay*T)\n",
        "\n",
        "    def deriv(y, t, N, beta):\n",
        "        S, A, I, Xs, Xa, Xi, P, R = y\n",
        "\n",
        "        if t < t_l or t > t_e:\n",
        "            k0 = 0\n",
        "        else:\n",
        "            k0 = K0\n",
        "            \n",
        "        if t > t_changeKt:\n",
        "            kt = kt2 = 0.5\n",
        "        else:\n",
        "            kt = 0.075; kt2 = 0\n",
        "\n",
        "        if t > t_e:\n",
        "            mu = MU\n",
        "        else:\n",
        "            mu = 0\n",
        "\n",
        "        dSdt = - beta * (I + kspread * (A + b1 * Xa) + b2 * Xi + b3 * P) * S/N - k0 * S + mu * Xs\n",
        "        dAdt = beta * (I + kspread * (A + b1 * Xa) + b2 * Xi + b3 * P) * S/N - sigma * A - k0 * A + mu * Xa - gamma1 * A - kt2 * A\n",
        "        dIdt = sigma * A  - kt * I - k0 * I + mu * Xi - gamma2 * I\n",
        "\n",
        "        dXsdt = - beta * beta1 * (I + kspread * (A + b1 * Xa) + b2 * Xi + b3 * P) * Xs/N + k0 * S - mu * Xs\n",
        "        dXadt = beta * beta1 * (I + kspread * (A + b1 * Xa) + b2 * Xi + b3 * P) * Xs/N - sigma * Xa + k0 * A - mu * Xa - gamma1 * Xa - kt2 * Xa\n",
        "        dXidt = sigma * Xa - kt * Xi + k0 * I - mu * Xi - gamma2 * Xi\n",
        "\n",
        "        dPdt = kt * (I + Xi) - gamma3 * P + kt2 * (A + Xa)\n",
        "        dRdt = gamma1 * (A + Xa) + gamma2 * (I + Xi) + gamma3 * P\n",
        "\n",
        "        return dSdt, dAdt, dIdt, dXsdt, dXadt, dXidt, dPdt, dRdt\n",
        "\n",
        "    # Initial conditions vector\n",
        "    y0 = S0, A0, I0, Xs0, Xa0, Xi0, P0, R0\n",
        "    # Integrate the SIR equations over the time grid, t.\n",
        "    ret = odeint(deriv, y0, t, args=(N, beta))\n",
        "    S, A, I, Xs, Xa, Xi, P, R = ret.T\n",
        "    if not plot: return P, R\n",
        "    else: return P, I + Xi + P, P + I + Xi + A + Xa\n",
        "\n",
        "# temp = getPreds(0.31, 0)"
      ],
      "execution_count": 0,
      "outputs": []
    },
    {
      "cell_type": "code",
      "metadata": {
        "id": "C3h1ZohxRVv6",
        "colab_type": "code",
        "colab": {}
      },
      "source": [
        "def readDataMaharashtra(startIndex = 0):\n",
        "    file = open('kasaragod_2.csv', 'r')\n",
        "    reader = csv.reader(file)\n",
        "    confirmed, recovered, dead = None, None, None\n",
        "    count = -1\n",
        "    i, r = [], []\n",
        "    for row in reader:\n",
        "        count += 1\n",
        "        if count < startIndex: continue\n",
        "        confirmed = int(row[2])\n",
        "        recovered = int(row[4])\n",
        "        dead = int(row[6])\n",
        "        r.append(recovered + dead)\n",
        "        i.append(confirmed - r[-1])\n",
        "    file.close()\n",
        "    return i, r\n",
        "\n",
        "# Start from March 01, when the first case in this spread started, adjust counts as needed\n",
        "# actualI, actualR = readDataIndia(startDate = \"01 March\")\n",
        "# T = 50\n",
        "# t_l = 23 # From 24 March, ignore Janta Curfew?\n",
        "# t_e = 44\n",
        "# actualI = np.asarray(actualI); actualR = np.asarray(actualR)\n",
        "# N = 1300000000\n",
        "\n",
        "# actualI, actualR = readDataIndia(startDate = \"01 March\")\n",
        "# T = 50 - daysOffset\n",
        "# t_l = 23 - daysOffset# From 24 March, ignore Janta Curfew?\n",
        "# t_e = 44 - daysOffset\n",
        "# actualI = np.asarray(actualI[daysOffset:]); actualR = np.asarray(actualR[daysOffset:])\n",
        "# N = 1300000000\n",
        "\n",
        "\n",
        "# Maharashtra Data\n",
        "actualI, actualR = readDataMaharashtra()\n",
        "actualI = np.asarray(actualI); actualR = np.asarray(actualR)\n",
        "T = 50 - daysOffset\n",
        "t_l = 24 - daysOffset\n",
        "t_e = 24 + 21 - daysOffset\n",
        "N = 110000000\n",
        "t_changeKt = 1000000000\n",
        "kspread = 1.0"
      ],
      "execution_count": 0,
      "outputs": []
    },
    {
      "cell_type": "code",
      "metadata": {
        "id": "TtnmyAMcSKZ6",
        "colab_type": "code",
        "outputId": "c6238b56-d18c-468c-8908-03cac3660c71",
        "colab": {
          "base_uri": "https://localhost:8080/",
          "height": 68
        }
      },
      "source": [
        "# Define loss and search for the best hyperparameters (grid search for now)\n",
        "def squaredLoss(preds, target):\n",
        "    loss = ((preds - target) ** 2).sum()\n",
        "    return loss\n",
        "\n",
        "eps = 1e-8\n",
        "def squaredLossExpScale(preds, target):\n",
        "    preds = np.log(preds + eps)\n",
        "    target = np.log(target + eps)\n",
        "    loss = ((preds - target) ** 2).sum()\n",
        "    return loss\n",
        "\n",
        "bestLoss = 10000000000\n",
        "bestBeta, bestBeta1 = -1, -1\n",
        "bestPreds = None\n",
        "betaValues = np.linspace(0.1, 0.6, 51)\n",
        "beta1Values = np.linspace(0.6, 1.0, 41)\n",
        "losses = np.zeros((len(betaValues), len(beta1Values)))\n",
        "\n",
        "for i, beta in enumerate(betaValues):\n",
        "    for j, beta1 in enumerate(beta1Values):\n",
        "        predI, predR = getPreds(beta = beta, beta1 = beta1)\n",
        "        trimmedPredI = predI[:len(actualI) * samplesPerDay:samplesPerDay]\n",
        "        trimmedPredR = predR[:len(actualR) * samplesPerDay:samplesPerDay]\n",
        "        assert len(trimmedPredI) == len(actualI) and len(trimmedPredR) == len(actualR), \"Length mismatch\"\n",
        "        loss = squaredLoss(trimmedPredI, actualI)\n",
        "        losses[i, j] = loss\n",
        "        \n",
        "        if loss < bestLoss:\n",
        "            bestLoss = loss\n",
        "            bestPreds = predI, predR\n",
        "            bestBeta = beta; bestBeta1 = beta1\n",
        "\n",
        "print(\"Best beta value\", bestBeta)\n",
        "print(\"Best beta1 value\", bestBeta1)\n",
        "print(\"Best loss value\", bestLoss)"
      ],
      "execution_count": 0,
      "outputs": [
        {
          "output_type": "stream",
          "text": [
            "Best beta value 0.23\n",
            "Best beta1 value 0.6\n",
            "Best loss value 11225.12653617229\n"
          ],
          "name": "stdout"
        }
      ]
    }
  ]
}